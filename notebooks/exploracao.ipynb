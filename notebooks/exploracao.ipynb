{
 "cells": [
  {
   "metadata": {
    "ExecuteTime": {
     "end_time": "2025-06-19T18:53:11.328845Z",
     "start_time": "2025-06-19T18:53:11.294279Z"
    }
   },
   "cell_type": "code",
   "source": [
    "import csv\n",
    "\n",
    "print(\"Hello, world!\")"
   ],
   "id": "21b0a6bcb3e0eeb9",
   "outputs": [
    {
     "name": "stdout",
     "output_type": "stream",
     "text": [
      "Hello, world!\n"
     ]
    }
   ],
   "execution_count": 1
  },
  {
   "metadata": {
    "ExecuteTime": {
     "end_time": "2025-06-19T22:29:25.291720Z",
     "start_time": "2025-06-19T22:29:25.288246Z"
    }
   },
   "cell_type": "code",
   "source": [
    "# Lendo os dados csv e json\n",
    "\n",
    "path_json = '../data_raw/dados_empresaA.json'\n",
    "path_csv = '../data_raw/dados_empresaB.csv'"
   ],
   "id": "1d0bdfa71f9c2cc0",
   "outputs": [],
   "execution_count": 6
  },
  {
   "metadata": {
    "ExecuteTime": {
     "end_time": "2025-06-19T22:29:27.114435Z",
     "start_time": "2025-06-19T22:29:27.105911Z"
    }
   },
   "cell_type": "code",
   "source": [
    "import json\n",
    "\n",
    "with open(path_json, 'r') as file:\n",
    "    dados_json = json.load(file)"
   ],
   "id": "6a3ab71c10781590",
   "outputs": [],
   "execution_count": 7
  },
  {
   "metadata": {
    "ExecuteTime": {
     "end_time": "2025-06-19T22:29:28.219860Z",
     "start_time": "2025-06-19T22:29:28.211153Z"
    }
   },
   "cell_type": "code",
   "source": "dados_json[0]",
   "id": "d3dd24618bf94ba8",
   "outputs": [
    {
     "data": {
      "text/plain": [
       "{'Nome do Produto': 'Blush em pó',\n",
       " 'Categoria do Produto': 'Eletrodomésticos',\n",
       " 'Preço do Produto (R$)': 79.41,\n",
       " 'Quantidade em Estoque': 7,\n",
       " 'Filial': 'Filial 7'}"
      ]
     },
     "execution_count": 8,
     "metadata": {},
     "output_type": "execute_result"
    }
   ],
   "execution_count": 8
  },
  {
   "metadata": {
    "ExecuteTime": {
     "end_time": "2025-06-19T22:29:29.855439Z",
     "start_time": "2025-06-19T22:29:29.851208Z"
    }
   },
   "cell_type": "code",
   "source": "dados_json[0][\"Quantidade em Estoque\"]",
   "id": "96df6a2b61361d9b",
   "outputs": [
    {
     "data": {
      "text/plain": [
       "7"
      ]
     },
     "execution_count": 9,
     "metadata": {},
     "output_type": "execute_result"
    }
   ],
   "execution_count": 9
  },
  {
   "metadata": {
    "ExecuteTime": {
     "end_time": "2025-06-19T22:29:30.999383Z",
     "start_time": "2025-06-19T22:29:30.993487Z"
    }
   },
   "cell_type": "code",
   "source": "dados_json[0][\"Categoria do Produto\"]",
   "id": "ffdf5bbc4248c938",
   "outputs": [
    {
     "data": {
      "text/plain": [
       "'Eletrodomésticos'"
      ]
     },
     "execution_count": 10,
     "metadata": {},
     "output_type": "execute_result"
    }
   ],
   "execution_count": 10
  },
  {
   "metadata": {
    "ExecuteTime": {
     "end_time": "2025-06-19T22:29:32.626722Z",
     "start_time": "2025-06-19T22:29:32.619292Z"
    }
   },
   "cell_type": "code",
   "source": [
    "import csv\n",
    "\n",
    "dados_csv = []\n",
    "\n",
    "with open(path_csv, 'r') as file_csv:\n",
    "    spamreader = csv.DictReader(file_csv, delimiter=',')\n",
    "    for row in spamreader:\n",
    "        dados_csv.append(row)"
   ],
   "id": "558834c79e610084",
   "outputs": [],
   "execution_count": 11
  },
  {
   "metadata": {
    "ExecuteTime": {
     "end_time": "2025-06-19T19:49:39.390268Z",
     "start_time": "2025-06-19T19:49:39.385265Z"
    }
   },
   "cell_type": "code",
   "source": "dados_csv[0]",
   "id": "ba24f6b95d6032b9",
   "outputs": [
    {
     "data": {
      "text/plain": [
       "{'Nome do Item': 'Lápis de sobrancelha',\n",
       " 'Classificação do Produto': 'Roupas',\n",
       " 'Valor em Reais (R$)': '55.17',\n",
       " 'Quantidade em Estoque': '62',\n",
       " 'Nome da Loja': 'Filial 1',\n",
       " 'Data da Venda': '2023-04-13 18:58:06.794203'}"
      ]
     },
     "execution_count": 75,
     "metadata": {},
     "output_type": "execute_result"
    }
   ],
   "execution_count": 75
  },
  {
   "metadata": {
    "ExecuteTime": {
     "end_time": "2025-06-19T19:49:53.672250Z",
     "start_time": "2025-06-19T19:49:53.662503Z"
    }
   },
   "cell_type": "code",
   "source": "dados_json[0]",
   "id": "ee12c96474fbb607",
   "outputs": [
    {
     "data": {
      "text/plain": [
       "{'Nome do Produto': 'Blush em pó',\n",
       " 'Categoria do Produto': 'Eletrodomésticos',\n",
       " 'Preço do Produto (R$)': 79.41,\n",
       " 'Quantidade em Estoque': 7,\n",
       " 'Filial': 'Filial 7'}"
      ]
     },
     "execution_count": 76,
     "metadata": {},
     "output_type": "execute_result"
    }
   ],
   "execution_count": 76
  },
  {
   "metadata": {
    "ExecuteTime": {
     "end_time": "2025-06-19T22:29:36.852464Z",
     "start_time": "2025-06-19T22:29:36.849730Z"
    }
   },
   "cell_type": "code",
   "source": [
    "nomes_colunas_json = list(dados_json[0].keys())\n",
    "nomes_colunas_csv = list(dados_csv[0].keys())"
   ],
   "id": "6b1b26eaed3c7601",
   "outputs": [],
   "execution_count": 12
  },
  {
   "metadata": {
    "ExecuteTime": {
     "end_time": "2025-06-19T22:29:38.595792Z",
     "start_time": "2025-06-19T22:29:38.590137Z"
    }
   },
   "cell_type": "code",
   "source": "nomes_colunas_json                  # nao tem data de venda",
   "id": "eea1da5b6db2ee56",
   "outputs": [
    {
     "data": {
      "text/plain": [
       "['Nome do Produto',\n",
       " 'Categoria do Produto',\n",
       " 'Preço do Produto (R$)',\n",
       " 'Quantidade em Estoque',\n",
       " 'Filial']"
      ]
     },
     "execution_count": 13,
     "metadata": {},
     "output_type": "execute_result"
    }
   ],
   "execution_count": 13
  },
  {
   "metadata": {
    "ExecuteTime": {
     "end_time": "2025-06-19T22:29:39.758538Z",
     "start_time": "2025-06-19T22:29:39.754499Z"
    }
   },
   "cell_type": "code",
   "source": "nomes_colunas_csv",
   "id": "20ec809d375b7552",
   "outputs": [
    {
     "data": {
      "text/plain": [
       "['Nome do Item',\n",
       " 'Classificação do Produto',\n",
       " 'Valor em Reais (R$)',\n",
       " 'Quantidade em Estoque',\n",
       " 'Nome da Loja',\n",
       " 'Data da Venda']"
      ]
     },
     "execution_count": 14,
     "metadata": {},
     "output_type": "execute_result"
    }
   ],
   "execution_count": 14
  },
  {
   "metadata": {
    "ExecuteTime": {
     "end_time": "2025-06-19T22:29:41.023864Z",
     "start_time": "2025-06-19T22:29:41.020632Z"
    }
   },
   "cell_type": "code",
   "source": [
    "# Mapeando as colunas para as duas fontes de dados terem o mesmo nome de colunas para posteriormente juntarmos os dados csv e json num csv só\n",
    "\n",
    "key_mapping = {\"Nome do Item\" : \"Nome do Produto\",\n",
    "                \"Classificação do Produto\" : \"Categoria do Produto\",\n",
    "                \"Valor em Reais (R$)\" : \"Preço do Produto (R$)\",\n",
    "                \"Quantidade em Estoque\" : \"Quantidade em Estoque\" ,\n",
    "                \"Nome da Loja\" : \"Filial\",\n",
    "                \"Data da Venda\" : \"Data da Venda\"}"
   ],
   "id": "db140fdf4283196f",
   "outputs": [],
   "execution_count": 15
  },
  {
   "metadata": {
    "ExecuteTime": {
     "end_time": "2025-06-19T22:29:42.061745Z",
     "start_time": "2025-06-19T22:29:42.054975Z"
    }
   },
   "cell_type": "code",
   "source": [
    "new_dados_csv = []\n",
    "\n",
    "for old_dict in dados_csv:\n",
    "    dict_temp = {}\n",
    "    for old_key, value in old_dict.items():\n",
    "        dict_temp[key_mapping[old_key]] = value\n",
    "    new_dados_csv.append(dict_temp)\n",
    "new_dados_csv[0]\n"
   ],
   "id": "28fca216f3cc552d",
   "outputs": [
    {
     "data": {
      "text/plain": [
       "{'Nome do Produto': 'Lápis de sobrancelha',\n",
       " 'Categoria do Produto': 'Roupas',\n",
       " 'Preço do Produto (R$)': '55.17',\n",
       " 'Quantidade em Estoque': '62',\n",
       " 'Filial': 'Filial 1',\n",
       " 'Data da Venda': '2023-04-13 18:58:06.794203'}"
      ]
     },
     "execution_count": 16,
     "metadata": {},
     "output_type": "execute_result"
    }
   ],
   "execution_count": 16
  },
  {
   "metadata": {
    "ExecuteTime": {
     "end_time": "2025-06-19T20:24:07.865558Z",
     "start_time": "2025-06-19T20:24:07.861286Z"
    }
   },
   "cell_type": "code",
   "source": [
    "livros_atualizados = []\n",
    "\n",
    "mapping = {\"FIC\":\"Ficção\", \"BIO\":\"Biografia\", \"HIS\":\"História\", \"SCI\":\"Ciência\", \"PHI\":\"Filosofia\"}"
   ],
   "id": "4ae70e1b129579e8",
   "outputs": [],
   "execution_count": 109
  },
  {
   "metadata": {
    "ExecuteTime": {
     "end_time": "2025-06-19T20:24:10.128569Z",
     "start_time": "2025-06-19T20:24:10.125104Z"
    }
   },
   "cell_type": "code",
   "source": [
    "lista_livros = [{\"titulo\":\"1984\", \"autor\":\"George Orwell\", \"categoria\":\"FIC\"},\n",
    "                {\"titulo\":\"Uma breve historia do tempo\", \"autor\":\"Stephen Hawking\", \"categoria\":\"SCI\"}]"
   ],
   "id": "f5ec32559392406a",
   "outputs": [],
   "execution_count": 110
  },
  {
   "metadata": {
    "ExecuteTime": {
     "end_time": "2025-06-19T20:24:11.433355Z",
     "start_time": "2025-06-19T20:24:11.427308Z"
    }
   },
   "cell_type": "code",
   "source": [
    "for old_dict in lista_livros:\n",
    "    dict_temp = {}\n",
    "    for old_key, value in old_dict.items():\n",
    "        if old_key == \"categoria\":\n",
    "            dict_temp[old_key] = mapping[value]\n",
    "        else:\n",
    "            dict_temp[old_key] = value\n",
    "    livros_atualizados.append(dict_temp)\n",
    "livros_atualizados"
   ],
   "id": "2a7675a094368a7c",
   "outputs": [
    {
     "data": {
      "text/plain": [
       "[{'titulo': '1984', 'autor': 'George Orwell', 'categoria': 'Ficção'},\n",
       " {'titulo': 'Uma breve historia do tempo',\n",
       "  'autor': 'Stephen Hawking',\n",
       "  'categoria': 'Ciência'}]"
      ]
     },
     "execution_count": 111,
     "metadata": {},
     "output_type": "execute_result"
    }
   ],
   "execution_count": 111
  },
  {
   "metadata": {
    "ExecuteTime": {
     "end_time": "2025-06-19T20:25:05.544982Z",
     "start_time": "2025-06-19T20:25:05.537904Z"
    }
   },
   "cell_type": "code",
   "source": "len(dados_json)",
   "id": "ceba891a7124c1c5",
   "outputs": [
    {
     "data": {
      "text/plain": [
       "3123"
      ]
     },
     "execution_count": 113,
     "metadata": {},
     "output_type": "execute_result"
    }
   ],
   "execution_count": 113
  },
  {
   "metadata": {
    "ExecuteTime": {
     "end_time": "2025-06-19T20:25:14.333484Z",
     "start_time": "2025-06-19T20:25:14.322932Z"
    }
   },
   "cell_type": "code",
   "source": "len(new_dados_csv)",
   "id": "48a612d2e179f53f",
   "outputs": [
    {
     "data": {
      "text/plain": [
       "1323"
      ]
     },
     "execution_count": 114,
     "metadata": {},
     "output_type": "execute_result"
    }
   ],
   "execution_count": 114
  },
  {
   "metadata": {},
   "cell_type": "code",
   "outputs": [
    {
     "data": {
      "text/plain": [
       "4446"
      ]
     },
     "execution_count": 115,
     "metadata": {},
     "output_type": "execute_result"
    }
   ],
   "execution_count": 115,
   "source": "3123 + 1323",
   "id": "3c61c49934f1e06a"
  },
  {
   "metadata": {
    "ExecuteTime": {
     "end_time": "2025-06-19T22:29:48.358456Z",
     "start_time": "2025-06-19T22:29:48.355655Z"
    }
   },
   "cell_type": "code",
   "source": [
    "# Criando uma lista só com TODOS os dados\n",
    "\n",
    "combined_list = []\n",
    "\n",
    "combined_list.extend(dados_json)\n",
    "combined_list.extend(new_dados_csv)"
   ],
   "id": "da86a10d53f5eb2a",
   "outputs": [],
   "execution_count": 17
  },
  {
   "metadata": {
    "ExecuteTime": {
     "end_time": "2025-06-19T22:29:51.352153Z",
     "start_time": "2025-06-19T22:29:51.349729Z"
    }
   },
   "cell_type": "code",
   "source": "len(combined_list)",
   "id": "569ac1b82fdd770c",
   "outputs": [
    {
     "data": {
      "text/plain": [
       "4446"
      ]
     },
     "execution_count": 18,
     "metadata": {},
     "output_type": "execute_result"
    }
   ],
   "execution_count": 18
  },
  {
   "metadata": {
    "ExecuteTime": {
     "end_time": "2025-06-19T22:29:52.842515Z",
     "start_time": "2025-06-19T22:29:52.837186Z"
    }
   },
   "cell_type": "code",
   "source": [
    "nomes_colunas = list(combined_list[-1].keys())\n",
    "nomes_colunas"
   ],
   "id": "47339bd1538efad6",
   "outputs": [
    {
     "data": {
      "text/plain": [
       "['Nome do Produto',\n",
       " 'Categoria do Produto',\n",
       " 'Preço do Produto (R$)',\n",
       " 'Quantidade em Estoque',\n",
       " 'Filial',\n",
       " 'Data da Venda']"
      ]
     },
     "execution_count": 19,
     "metadata": {},
     "output_type": "execute_result"
    }
   ],
   "execution_count": 19
  },
  {
   "metadata": {
    "ExecuteTime": {
     "end_time": "2025-06-19T22:29:54.348797Z",
     "start_time": "2025-06-19T22:29:54.334276Z"
    }
   },
   "cell_type": "code",
   "source": [
    "# Salvando os dados combinados num CSV novo:\n",
    "\n",
    "path_dados_combinados = '../data_processed/dados_combinados.csv'\n",
    "\n",
    "with open(path_dados_combinados, 'w') as file:\n",
    "    csvwriter = csv.DictWriter(file, fieldnames=nomes_colunas)\n",
    "    csvwriter.writeheader()\n",
    "\n",
    "    for row in combined_list:\n",
    "        csvwriter.writerow(row)"
   ],
   "id": "38897bcf1beeced9",
   "outputs": [],
   "execution_count": 20
  },
  {
   "metadata": {
    "ExecuteTime": {
     "end_time": "2025-06-19T22:29:56.887488Z",
     "start_time": "2025-06-19T22:29:56.883852Z"
    }
   },
   "cell_type": "code",
   "source": "combined_list[1].get(\"Data da Venda\")       #retorna null",
   "id": "70d6c67283e27fa3",
   "outputs": [],
   "execution_count": 21
  },
  {
   "metadata": {
    "ExecuteTime": {
     "end_time": "2025-06-19T22:29:57.944420Z",
     "start_time": "2025-06-19T22:29:57.939024Z"
    }
   },
   "cell_type": "code",
   "source": "combined_list[-1].get(\"Data da Venda\")",
   "id": "1d8d88b4e7cec29f",
   "outputs": [
    {
     "data": {
      "text/plain": [
       "'2022-11-21 18:58:06.794203'"
      ]
     },
     "execution_count": 22,
     "metadata": {},
     "output_type": "execute_result"
    }
   ],
   "execution_count": 22
  },
  {
   "metadata": {
    "ExecuteTime": {
     "end_time": "2025-06-19T22:29:59.549398Z",
     "start_time": "2025-06-19T22:29:59.540006Z"
    }
   },
   "cell_type": "code",
   "source": [
    "# Transformando os dados numa lista de listas (tabela); adicionando \"indisponível\" nas datas de venda dos registros da empresa A que não contém essa info.\n",
    "\n",
    "dados_combinados_tabela = [nomes_colunas]\n",
    "\n",
    "for row in combined_list:\n",
    "    linha = []\n",
    "    for coluna in nomes_colunas:\n",
    "        linha.append(row.get(coluna, 'Indisponível'))\n",
    "    dados_combinados_tabela.append(linha)"
   ],
   "id": "fda3a6f024182d1d",
   "outputs": [],
   "execution_count": 23
  },
  {
   "metadata": {
    "ExecuteTime": {
     "end_time": "2025-06-19T21:50:01.913340Z",
     "start_time": "2025-06-19T21:50:01.901793Z"
    }
   },
   "cell_type": "code",
   "source": "dados_combinados_tabela[-1]",
   "id": "8a73a70bfa497142",
   "outputs": [
    {
     "data": {
      "text/plain": [
       "['Sombra de olhos',\n",
       " 'Eletrônicos',\n",
       " '41.73',\n",
       " '5',\n",
       " 'Filial 6',\n",
       " '2022-11-21 18:58:06.794203']"
      ]
     },
     "execution_count": 146,
     "metadata": {},
     "output_type": "execute_result"
    }
   ],
   "execution_count": 146
  },
  {
   "metadata": {
    "ExecuteTime": {
     "end_time": "2025-06-19T22:30:07.198935Z",
     "start_time": "2025-06-19T22:30:07.192766Z"
    }
   },
   "cell_type": "code",
   "source": "dados_combinados_tabela[1]",
   "id": "7599f0d561c2c120",
   "outputs": [
    {
     "data": {
      "text/plain": [
       "['Blush em pó', 'Eletrodomésticos', 79.41, 7, 'Filial 7', 'Indisponível']"
      ]
     },
     "execution_count": 24,
     "metadata": {},
     "output_type": "execute_result"
    }
   ],
   "execution_count": 24
  },
  {
   "metadata": {
    "ExecuteTime": {
     "end_time": "2025-06-19T22:30:09.161082Z",
     "start_time": "2025-06-19T22:30:09.157953Z"
    }
   },
   "cell_type": "code",
   "source": "import csv",
   "id": "8f001fd0877f10a7",
   "outputs": [],
   "execution_count": 25
  },
  {
   "metadata": {
    "ExecuteTime": {
     "end_time": "2025-06-19T22:30:10.079701Z",
     "start_time": "2025-06-19T22:30:10.069370Z"
    }
   },
   "cell_type": "code",
   "source": [
    "# Salvar dados (lista de listas)\n",
    "\n",
    "path_dados_combinados = '../data_processed/dados_combinados.csv'\n",
    "\n",
    "with open(path_dados_combinados, 'w') as file:\n",
    "    csvwriter = csv.writer(file)\n",
    "    csvwriter.writerows(dados_combinados_tabela)"
   ],
   "id": "50adf3274cf112bd",
   "outputs": [],
   "execution_count": 26
  }
 ],
 "metadata": {},
 "nbformat": 4,
 "nbformat_minor": 5
}
